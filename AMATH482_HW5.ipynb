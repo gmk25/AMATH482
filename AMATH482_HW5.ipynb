{
 "cells": [
  {
   "cell_type": "code",
   "execution_count": 34,
   "metadata": {},
   "outputs": [],
   "source": [
    "import numpy as np\n",
    "import tensorflow as tf\n",
    "import matplotlib.pyplot as plt\n",
    "import pandas as pd\n",
    "from sklearn.metrics import confusion_matrix"
   ]
  },
  {
   "cell_type": "code",
   "execution_count": 35,
   "metadata": {},
   "outputs": [],
   "source": [
    "fashion_mnist = tf.keras.datasets.fashion_mnist\n",
    "(X_train_full, y_train_full), (X_test, y_test) = fashion_mnist.load_data()"
   ]
  },
  {
   "cell_type": "code",
   "execution_count": 33,
   "metadata": {},
   "outputs": [],
   "source": [
    "X_valid = X_train_full[:5000] / 255.0\n",
    "X_train = X_train_full[5000:] / 255.0\n",
    "X_test = X_test / 255.0\n",
    "\n",
    "y_valid = y_train_full[:5000]\n",
    "y_train = y_train_full[5000:]"
   ]
  },
  {
   "cell_type": "code",
   "execution_count": 4,
   "metadata": {},
   "outputs": [],
   "source": [
    "from functools import partial\n",
    "my_dense_layer = partial(tf.keras.layers.Dense, activation=\"relu\", kernel_regularizer=tf.keras.regularizers.l2(0.0001))\n",
    "\n",
    "model = tf.keras.models.Sequential([\n",
    "    tf.keras.layers.Flatten(input_shape=[28, 28]),\n",
    "    #my_dense_layer(500),\n",
    "    my_dense_layer(300),\n",
    "    my_dense_layer(200),\n",
    "    my_dense_layer(10, activation=\"softmax\")\n",
    "])"
   ]
  },
  {
   "cell_type": "code",
   "execution_count": 5,
   "metadata": {},
   "outputs": [],
   "source": [
    "model.compile(loss=\"sparse_categorical_crossentropy\",\n",
    "             optimizer=tf.keras.optimizers.Adam(learning_rate=0.0001),\n",
    "             metrics=[\"accuracy\"])"
   ]
  },
  {
   "cell_type": "code",
   "execution_count": 6,
   "metadata": {
    "scrolled": false
   },
   "outputs": [
    {
     "name": "stdout",
     "output_type": "stream",
     "text": [
      "Train on 55000 samples, validate on 5000 samples\n",
      "Epoch 1/15\n",
      "55000/55000 [==============================] - 157s 3ms/sample - loss: 0.6613 - accuracy: 0.8015 - val_loss: 0.4979 - val_accuracy: 0.8550\n",
      "Epoch 2/15\n",
      "55000/55000 [==============================] - 27s 496us/sample - loss: 0.4790 - accuracy: 0.8547 - val_loss: 0.4560 - val_accuracy: 0.8642\n",
      "Epoch 3/15\n",
      "55000/55000 [==============================] - 27s 489us/sample - loss: 0.4396 - accuracy: 0.8673 - val_loss: 0.4327 - val_accuracy: 0.8660\n",
      "Epoch 4/15\n",
      "55000/55000 [==============================] - 27s 498us/sample - loss: 0.4129 - accuracy: 0.8757 - val_loss: 0.4083 - val_accuracy: 0.8764\n",
      "Epoch 5/15\n",
      "55000/55000 [==============================] - 33s 594us/sample - loss: 0.3944 - accuracy: 0.8827 - val_loss: 0.3985 - val_accuracy: 0.8824\n",
      "Epoch 6/15\n",
      "55000/55000 [==============================] - 28s 513us/sample - loss: 0.3781 - accuracy: 0.8866 - val_loss: 0.3877 - val_accuracy: 0.8828\n",
      "Epoch 7/15\n",
      "55000/55000 [==============================] - 27s 485us/sample - loss: 0.3650 - accuracy: 0.8905 - val_loss: 0.3859 - val_accuracy: 0.8850\n",
      "Epoch 8/15\n",
      "55000/55000 [==============================] - 24s 430us/sample - loss: 0.3533 - accuracy: 0.8945 - val_loss: 0.3871 - val_accuracy: 0.8840\n",
      "Epoch 9/15\n",
      "55000/55000 [==============================] - 24s 433us/sample - loss: 0.3448 - accuracy: 0.8973 - val_loss: 0.3824 - val_accuracy: 0.8850\n",
      "Epoch 10/15\n",
      "55000/55000 [==============================] - 22s 406us/sample - loss: 0.3348 - accuracy: 0.9010 - val_loss: 0.3702 - val_accuracy: 0.8862\n",
      "Epoch 11/15\n",
      "55000/55000 [==============================] - 23s 416us/sample - loss: 0.3271 - accuracy: 0.9030 - val_loss: 0.3712 - val_accuracy: 0.8900\n",
      "Epoch 12/15\n",
      "55000/55000 [==============================] - 22s 393us/sample - loss: 0.3196 - accuracy: 0.9068 - val_loss: 0.3726 - val_accuracy: 0.8862\n",
      "Epoch 13/15\n",
      "55000/55000 [==============================] - 21s 389us/sample - loss: 0.3115 - accuracy: 0.9097 - val_loss: 0.3588 - val_accuracy: 0.8930\n",
      "Epoch 14/15\n",
      "55000/55000 [==============================] - 22s 403us/sample - loss: 0.3059 - accuracy: 0.9107 - val_loss: 0.3577 - val_accuracy: 0.8916\n",
      "Epoch 15/15\n",
      "55000/55000 [==============================] - 28s 502us/sample - loss: 0.2991 - accuracy: 0.9143 - val_loss: 0.3505 - val_accuracy: 0.8944\n"
     ]
    }
   ],
   "source": [
    "history = model.fit(X_train, y_train, epochs=15, validation_data=(X_valid,y_valid))"
   ]
  },
  {
   "cell_type": "code",
   "execution_count": 7,
   "metadata": {},
   "outputs": [
    {
     "data": {
      "image/png": "[encoded data removed]",
      "text/plain": [
       "<Figure size 576x360 with 1 Axes>"
      ]
     },
     "metadata": {
      "needs_background": "light"
     },
     "output_type": "display_data"
    }
   ],
   "source": [
    "pd.DataFrame(history.history).plot(figsize=(8,5))\n",
    "plt.grid(True)\n",
    "plt.gca().set_ylim(0,1)\n",
    "plt.show()"
   ]
  },
  {
   "cell_type": "code",
   "execution_count": 8,
   "metadata": {},
   "outputs": [
    {
     "name": "stdout",
     "output_type": "stream",
     "text": [
      "[[4952    6   99   86    7    3  383    0    7    0]\n",
      " [   5 5373    1   52    7    0    6    0    0    0]\n",
      " [  43    3 4747   39  299    0  362    0    3    0]\n",
      " [  96   23   44 5119  144    0   71    0    2    0]\n",
      " [   7    6  424  131 4566    0  373    0    5    0]\n",
      " [   0    0    1    0    0 5453    0   50    1    2]\n",
      " [ 535    5  283  102  170    0 4404    0    8    0]\n",
      " [   0    0    0    0    0   47    0 5396    4   41]\n",
      " [   9    2   20   11   14    6   21   12 5415    0]\n",
      " [   0    1    0    0    0   27    0  264    0 5202]]\n"
     ]
    }
   ],
   "source": [
    "y_pred = model.predict_classes(X_train)\n",
    "conf_train = confusion_matrix(y_train, y_pred)\n",
    "print(conf_train)"
   ]
  },
  {
   "cell_type": "code",
   "execution_count": 9,
   "metadata": {},
   "outputs": [
    {
     "name": "stdout",
     "output_type": "stream",
     "text": [
      "10000/10000 [==============================] - 3s 276us/sample - loss: 0.3838 - accuracy: 0.8833\n"
     ]
    },
    {
     "data": {
      "text/plain": [
       "[0.38375522260665895, 0.8833]"
      ]
     },
     "execution_count": 9,
     "metadata": {},
     "output_type": "execute_result"
    }
   ],
   "source": [
    "model.evaluate(X_test,y_test)"
   ]
  },
  {
   "cell_type": "code",
   "execution_count": 10,
   "metadata": {},
   "outputs": [
    {
     "name": "stdout",
     "output_type": "stream",
     "text": [
      "[[836   1  21  22   4   1 107   0   8   0]\n",
      " [  3 973   0  19   3   0   2   0   0   0]\n",
      " [ 13   0 818  13  67   0  88   0   1   0]\n",
      " [ 22   9  14 896  29   0  26   0   4   0]\n",
      " [  0   1 103  25 784   0  86   0   1   0]\n",
      " [  0   0   0   1   0 970   0  24   2   3]\n",
      " [121   2  79  28  53   0 708   0   9   0]\n",
      " [  0   0   0   0   0  20   0 967   0  13]\n",
      " [  7   0   7   6   5   4   7   5 959   0]\n",
      " [  0   0   0   0   0  12   1  65   0 922]]\n"
     ]
    }
   ],
   "source": [
    "y_pred = model.predict_classes(X_test)\n",
    "conf_test = confusion_matrix(y_test, y_pred)\n",
    "print(conf_test)"
   ]
  },
  {
   "cell_type": "code",
   "execution_count": 106,
   "metadata": {},
   "outputs": [
    {
     "data": {
      "image/png": "[encoded data removed]",
      "text/plain": [
       "<Figure size 432x288 with 1 Axes>"
      ]
     },
     "metadata": {
      "needs_background": "light"
     },
     "output_type": "display_data"
    }
   ],
   "source": [
    "fig, ax = plt.subplots()\n",
    "\n",
    "# hide axes\n",
    "fig.patch.set_visible(False)\n",
    "ax.axis('off')\n",
    "ax.axis('tight')\n",
    "\n",
    "# create table and save to file\n",
    "df = pd.DataFrame(conf_test)\n",
    "ax.table(cellText=df.values, rowLabels=np.arange(10), colLabels=np.arange(10), loc='center', cellLoc='center')\n",
    "fig.tight_layout()\n",
    "plt.savefig('conf_mat.pdf')"
   ]
  },
  {
   "cell_type": "code",
   "execution_count": 36,
   "metadata": {},
   "outputs": [],
   "source": [
    "#convolutional neural network\n",
    "X_valid = X_train_full[:5000] / 255.0\n",
    "X_train = X_train_full[5000:] / 255.0\n",
    "X_test = X_test / 255.0\n",
    "\n",
    "y_valid = y_train_full[:5000]\n",
    "y_train = y_train_full[5000:]\n",
    "\n",
    "X_train = X_train[..., np.newaxis]\n",
    "X_valid = X_valid[..., np.newaxis]\n",
    "X_test = X_test[..., np.newaxis]"
   ]
  },
  {
   "cell_type": "code",
   "execution_count": 37,
   "metadata": {},
   "outputs": [],
   "source": [
    "from functools import partial\n",
    "\n",
    "my_dense_layer = partial(tf.keras.layers.Dense, activation=\"relu\", kernel_regularizer=tf.keras.regularizers.l2(0.00001))\n",
    "my_conv_layer = partial(tf.keras.layers.Conv2D, activation=\"relu\", padding=\"valid\")\n",
    "\n",
    "model = tf.keras.models.Sequential([\n",
    "    my_conv_layer(6,5,padding=\"same\",input_shape=[28,28,1]),\n",
    "    tf.keras.layers.AveragePooling2D(2),\n",
    "    my_conv_layer(16,5),\n",
    "    tf.keras.layers.AveragePooling2D(2),\n",
    "    my_conv_layer(120,5),\n",
    "    tf.keras.layers.Flatten(),\n",
    "    my_dense_layer(84),\n",
    "    my_dense_layer(10, activation=\"softmax\")\n",
    "])"
   ]
  },
  {
   "cell_type": "code",
   "execution_count": 38,
   "metadata": {},
   "outputs": [],
   "source": [
    "model.compile(loss=\"sparse_categorical_crossentropy\",\n",
    "             optimizer=tf.keras.optimizers.Adam(learning_rate=0.001),\n",
    "             metrics=[\"accuracy\"])"
   ]
  },
  {
   "cell_type": "code",
   "execution_count": 39,
   "metadata": {
    "scrolled": true
   },
   "outputs": [
    {
     "name": "stdout",
     "output_type": "stream",
     "text": [
      "Train on 55000 samples, validate on 5000 samples\n",
      "Epoch 1/10\n",
      "55000/55000 [==============================] - 77s 1ms/sample - loss: 0.5742 - accuracy: 0.7898 - val_loss: 0.4228 - val_accuracy: 0.8458\n",
      "Epoch 2/10\n",
      "55000/55000 [==============================] - 72s 1ms/sample - loss: 0.3950 - accuracy: 0.8556 - val_loss: 0.3541 - val_accuracy: 0.8754\n",
      "Epoch 3/10\n",
      "55000/55000 [==============================] - 63s 1ms/sample - loss: 0.3447 - accuracy: 0.8740 - val_loss: 0.3543 - val_accuracy: 0.8730\n",
      "Epoch 4/10\n",
      "55000/55000 [==============================] - 60s 1ms/sample - loss: 0.3149 - accuracy: 0.8849 - val_loss: 0.3183 - val_accuracy: 0.8856\n",
      "Epoch 5/10\n",
      "55000/55000 [==============================] - 64s 1ms/sample - loss: 0.2900 - accuracy: 0.8931 - val_loss: 0.3026 - val_accuracy: 0.8914\n",
      "Epoch 6/10\n",
      "55000/55000 [==============================] - 63s 1ms/sample - loss: 0.2709 - accuracy: 0.8999 - val_loss: 0.2945 - val_accuracy: 0.8972\n",
      "Epoch 7/10\n",
      "55000/55000 [==============================] - 70s 1ms/sample - loss: 0.2555 - accuracy: 0.9063 - val_loss: 0.2806 - val_accuracy: 0.8942\n",
      "Epoch 8/10\n",
      "55000/55000 [==============================] - 74s 1ms/sample - loss: 0.2392 - accuracy: 0.9119 - val_loss: 0.2797 - val_accuracy: 0.9004\n",
      "Epoch 9/10\n",
      "55000/55000 [==============================] - 65s 1ms/sample - loss: 0.2300 - accuracy: 0.9139 - val_loss: 0.2771 - val_accuracy: 0.9052\n",
      "Epoch 10/10\n",
      "55000/55000 [==============================] - 63s 1ms/sample - loss: 0.2187 - accuracy: 0.9183 - val_loss: 0.2605 - val_accuracy: 0.9098\n"
     ]
    }
   ],
   "source": [
    "history = model.fit(X_train, y_train, epochs=10, validation_data=(X_valid,y_valid))"
   ]
  },
  {
   "cell_type": "code",
   "execution_count": 40,
   "metadata": {},
   "outputs": [
    {
     "data": {
      "image/png": "[encoded data removed]",
      "text/plain": [
       "<Figure size 576x360 with 1 Axes>"
      ]
     },
     "metadata": {
      "needs_background": "light"
     },
     "output_type": "display_data"
    }
   ],
   "source": [
    "pd.DataFrame(history.history).plot(figsize=(8,5))\n",
    "plt.grid(True)\n",
    "plt.gca().set_ylim(0,1)\n",
    "plt.show()"
   ]
  },
  {
   "cell_type": "code",
   "execution_count": 41,
   "metadata": {},
   "outputs": [
    {
     "name": "stdout",
     "output_type": "stream",
     "text": [
      "[[4734   10   36   85   11    0  654    0   13    0]\n",
      " [   1 5399    0   39    3    0    0    0    2    0]\n",
      " [  43    3 4866   42  256    0  278    0    8    0]\n",
      " [  65   38    5 5192  144    0   53    0    2    0]\n",
      " [   1    5  339  116 4825    0  218    0    8    0]\n",
      " [   0    1    0    1    0 5413    0   59   11   22]\n",
      " [ 351    8  265  117  260    0 4487    0   19    0]\n",
      " [   0    0    0    0    0   31    0 5319    2  136]\n",
      " [   0    2    4   10    2    0   13    1 5478    0]\n",
      " [   0    0    0    1    0   10    0  119    1 5363]]\n"
     ]
    }
   ],
   "source": [
    "y_pred = model.predict_classes(X_train)\n",
    "conf_train = confusion_matrix(y_train, y_pred)\n",
    "print(conf_train)"
   ]
  },
  {
   "cell_type": "code",
   "execution_count": 42,
   "metadata": {},
   "outputs": [
    {
     "name": "stdout",
     "output_type": "stream",
     "text": [
      "10000/10000 [==============================] - 5s 495us/sample - loss: 0.2791 - accuracy: 0.9024\n"
     ]
    },
    {
     "data": {
      "text/plain": [
       "[0.27909752118587494, 0.9024]"
      ]
     },
     "execution_count": 42,
     "metadata": {},
     "output_type": "execute_result"
    }
   ],
   "source": [
    "model.evaluate(X_test,y_test) "
   ]
  },
  {
   "cell_type": "code",
   "execution_count": 131,
   "metadata": {},
   "outputs": [
    {
     "name": "stdout",
     "output_type": "stream",
     "text": [
      "[[878   0  31   7   5   1  67   0  11   0]\n",
      " [  3 978   0  12   3   0   4   0   0   0]\n",
      " [ 14   1 897   5  28   0  52   0   3   0]\n",
      " [ 31   7  23 866  42   0  28   0   3   0]\n",
      " [  0   1 102  16 764   0 115   0   2   0]\n",
      " [  0   0   0   0   0 963   0  30   2   5]\n",
      " [122   2  87  10  39   1 731   0   8   0]\n",
      " [  0   0   0   0   0   3   0 974   0  23]\n",
      " [  3   0   1   3   1   1   3   1 987   0]\n",
      " [  0   0   0   0   0   6   1  35   0 958]]\n"
     ]
    }
   ],
   "source": [
    "y_pred = model.predict_classes(X_test)\n",
    "conf_test = confusion_matrix(y_test, y_pred)\n",
    "print(conf_test)"
   ]
  },
  {
   "cell_type": "code",
   "execution_count": 133,
   "metadata": {},
   "outputs": [
    {
     "data": {
      "image/png": "[encoded data removed]",
      "text/plain": [
       "<Figure size 432x288 with 1 Axes>"
      ]
     },
     "metadata": {
      "needs_background": "light"
     },
     "output_type": "display_data"
    }
   ],
   "source": [
    "fig, ax = plt.subplots()\n",
    "\n",
    "# hide axes\n",
    "fig.patch.set_visible(False)\n",
    "ax.axis('off')\n",
    "ax.axis('tight')\n",
    "\n",
    "# create table and save to file\n",
    "df = pd.DataFrame(conf_test)\n",
    "ax.table(cellText=df.values, rowLabels=np.arange(10), colLabels=np.arange(10), loc='center', cellLoc='center')\n",
    "fig.tight_layout()\n",
    "plt.savefig('conf_mat.pdf')"
   ]
  }
 ],
 "metadata": {
  "kernelspec": {
   "display_name": "AMATH482",
   "language": "python",
   "name": "amath482"
  },
  "language_info": {
   "codemirror_mode": {
    "name": "ipython",
    "version": 3
   },
   "file_extension": ".py",
   "mimetype": "text/x-python",
   "name": "python",
   "nbconvert_exporter": "python",
   "pygments_lexer": "ipython3",
   "version": "3.7.6"
  }
 },
 "nbformat": 4,
 "nbformat_minor": 2
}
